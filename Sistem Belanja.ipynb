{
 "cells": [
  {
   "cell_type": "code",
   "execution_count": 11,
   "id": "03a09b01-8b59-403e-9e78-7d33fd1e479f",
   "metadata": {},
   "outputs": [
    {
     "name": "stdout",
     "output_type": "stream",
     "text": [
      "=== Daftar Menu ===\n",
      "Es Buah : 10.000\n",
      "Es Teler : 15.000\n",
      "Es Kelapa : 20.000\n"
     ]
    },
    {
     "name": "stdin",
     "output_type": "stream",
     "text": [
      "Jumlah Es Buah:  5\n",
      "Jumlah Es Teler:  4\n",
      "Jumlah Es Kelapa:  3\n"
     ]
    },
    {
     "name": "stdout",
     "output_type": "stream",
     "text": [
      "==============================\n",
      "Jumlah Harga Es Buah 50000\n",
      "Jumlah Harga Es Teler 60000\n",
      "Jumlah Harga Es Kelapa 60000\n",
      "==============================\n",
      "Total Harga: 170000\n",
      "==============================\n",
      "Diskon 10%:  17000\n",
      "==============================\n",
      "Total Harga Akhir: 153000\n",
      "==============================\n"
     ]
    },
    {
     "name": "stdin",
     "output_type": "stream",
     "text": [
      "Bayar:  160000\n"
     ]
    },
    {
     "name": "stdout",
     "output_type": "stream",
     "text": [
      "Kembalian: 7000\n"
     ]
    }
   ],
   "source": [
    "print(\"=== Daftar Menu ===\")\n",
    "\n",
    "minuman = [\"Es Buah : 10.000\",\"Es Teler : 15.000\",\"Es Kelapa : 20.000\"]\n",
    "for item in minuman :\n",
    "    print(item)\n",
    "\n",
    "satuEsBuah = 10000\n",
    "satuEsTeler = 15000\n",
    "satuEsKelapa = 20000\n",
    "\n",
    "esBuah = int(input(\"Jumlah Es Buah: \"))\n",
    "esTeler = int(input(\"Jumlah Es Teler: \"))\n",
    "esKelapa = int(input(\"Jumlah Es Kelapa: \"))\n",
    "\n",
    "print(\"==============================\")\n",
    "jumlahHargaEsBuah = esBuah * satuEsBuah\n",
    "print(\"Jumlah Harga Es Buah\",jumlahHargaEsBuah)\n",
    "jumlahHargaEsTeler = esTeler * satuEsTeler\n",
    "print(\"Jumlah Harga Es Teler\",jumlahHargaEsTeler)\n",
    "jumlahHargaEsKelapa = esKelapa * satuEsKelapa\n",
    "print(\"Jumlah Harga Es Kelapa\",jumlahHargaEsKelapa)\n",
    "print(\"==============================\")\n",
    "\n",
    "totalBelanja = jumlahHargaEsBuah + jumlahHargaEsTeler + jumlahHargaEsKelapa\n",
    "print(\"Total Harga:\",totalBelanja)\n",
    "print(\"==============================\")\n",
    "diskon = int(totalBelanja/100) *10 if totalBelanja >= 100000 else 0\n",
    "print(\"Diskon 10%: \",diskon)\n",
    "print(\"==============================\")\n",
    "hargaAkhir = int(totalBelanja - diskon)\n",
    "print(\"Total Harga Akhir:\",hargaAkhir)\n",
    "print(\"==============================\")\n",
    "\n",
    "bayar = int(input(\"Bayar: \"))\n",
    "kembalian = int(bayar - hargaAkhir)\n",
    "print(\"Kembalian:\",kembalian)"
   ]
  },
  {
   "cell_type": "code",
   "execution_count": 30,
   "id": "68faeb5a-c5b7-416f-b5c6-d0f45426f51c",
   "metadata": {},
   "outputs": [
    {
     "name": "stdin",
     "output_type": "stream",
     "text": [
      "Masukan Angka:  5432\n"
     ]
    },
    {
     "name": "stdout",
     "output_type": "stream",
     "text": [
      "Hasil:  5418\n"
     ]
    }
   ],
   "source": [
    "bil = input(\"Masukan Angka: \")\n",
    "kurang = int(bil[0])+ int(bil[1])+ int(bil[2])+int(bil[3])\n",
    "hasil = int(bil) - kurang\n",
    "print(\"Hasil: \",hasil)"
   ]
  }
 ],
 "metadata": {
  "kernelspec": {
   "display_name": "Python 3 (ipykernel)",
   "language": "python",
   "name": "python3"
  },
  "language_info": {
   "codemirror_mode": {
    "name": "ipython",
    "version": 3
   },
   "file_extension": ".py",
   "mimetype": "text/x-python",
   "name": "python",
   "nbconvert_exporter": "python",
   "pygments_lexer": "ipython3",
   "version": "3.12.3"
  }
 },
 "nbformat": 4,
 "nbformat_minor": 5
}
