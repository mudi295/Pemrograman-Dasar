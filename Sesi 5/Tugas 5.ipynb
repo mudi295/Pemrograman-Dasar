{
 "cells": [
  {
   "cell_type": "markdown",
   "id": "7129d85e-611a-45e6-8f0f-030ee85a8b1a",
   "metadata": {},
   "source": [
    "<h1>Muhamad Hamudi</h1>\n"
   ]
  },
  {
   "cell_type": "code",
   "execution_count": 1,
   "id": "2cf1e028-d776-4d0e-a457-143f3860aa5d",
   "metadata": {},
   "outputs": [
    {
     "name": "stdout",
     "output_type": "stream",
     "text": [
      "a. putra nusa\n",
      "b. NIVERSITAS NSA PTRA SKABMI\n",
      "c. SUKABUMI PUTRA NUSA UNIVERSITAS\n",
      "d. UNPS\n",
      "e. TAS SAPU BUMI\n"
     ]
    }
   ],
   "source": [
    "kalimat = \"UNIVERSITAS NUSA PUTRA SUKABUMI\"\n",
    "kata =kalimat.split(' ')\n",
    "print(\"a.\",kata[2].lower(),kata[1].lower())\n",
    "print(\"b.\",kalimat.replace(\"U\",\"\"))\n",
    "print(\"c.\",kata[3],kata[2],kata[1],kata[0])\n",
    "print(\"d.\",kata[0][0]+kata[1][0]+kata[2][0]+kata[3][0])\n",
    "print(\"e.\",kata[0][-3:], kata[1][-2:]+kata[2][:2],kata[3][-4:])"
   ]
  }
 ],
 "metadata": {
  "kernelspec": {
   "display_name": "Python 3 (ipykernel)",
   "language": "python",
   "name": "python3"
  },
  "language_info": {
   "codemirror_mode": {
    "name": "ipython",
    "version": 3
   },
   "file_extension": ".py",
   "mimetype": "text/x-python",
   "name": "python",
   "nbconvert_exporter": "python",
   "pygments_lexer": "ipython3",
   "version": "3.12.3"
  }
 },
 "nbformat": 4,
 "nbformat_minor": 5
}
