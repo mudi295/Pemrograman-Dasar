{
 "cells": [
  {
   "cell_type": "code",
   "execution_count": 9,
   "id": "efd93f04-8948-4dca-a39a-ab01997f77e2",
   "metadata": {},
   "outputs": [
    {
     "name": "stdin",
     "output_type": "stream",
     "text": [
      "Masukkan Nama Anda:  Hamudi\n"
     ]
    },
    {
     "name": "stdout",
     "output_type": "stream",
     "text": [
      "Selamat Datang: Hamudi\n",
      "Selamat datang DwiSelamat datang DjibrilSelamat datang Ibnu\n",
      "Anggur@Apel@Semangka\n"
     ]
    }
   ],
   "source": [
    "name = input(\"Masukkan Nama Anda: \")\n",
    "print(\"Selamat Datang:\",name)\n",
    "\n",
    "print(\"Selamat datang Dwi\",end='')\n",
    "print(\"Selamat datang Djibril\",end='')\n",
    "print(\"Selamat datang Ibnu\")\n",
    "print(\"Anggur\", \"Apel\", \"Semangka\",sep='@')"
   ]
  },
  {
   "cell_type": "code",
   "execution_count": 14,
   "id": "316fd541-381c-47cd-a582-ff3ee3cb86ce",
   "metadata": {},
   "outputs": [
    {
     "name": "stdin",
     "output_type": "stream",
     "text": [
      "Isikan bilangan 1: 3\n",
      "Isikan bilangan 2: 2\n"
     ]
    },
    {
     "name": "stdout",
     "output_type": "stream",
     "text": [
      "Hasil Penjumlahan dari 3 + 2 = 5\n"
     ]
    }
   ],
   "source": [
    "val1 = int(input(\"Isikan bilangan 1:\"))\n",
    "val2 = int(input(\"Isikan bilangan 2:\"))\n",
    "result = val1 + val2\n",
    "print(\"Hasil Penjumlahan dari {} + {} = {}\".format(val1,val2,result))"
   ]
  },
  {
   "cell_type": "code",
   "execution_count": 20,
   "id": "000c68bc-2d5c-4526-97ca-f2927454e30c",
   "metadata": {},
   "outputs": [
    {
     "name": "stdin",
     "output_type": "stream",
     "text": [
      "Isikan nama awal: Mudi\n",
      "Isikan nama tengah: EL\n",
      "Isikan nama akhir: Muhammad\n"
     ]
    },
    {
     "name": "stdout",
     "output_type": "stream",
     "text": [
      "Nama Lengkap: Mudi EL Muhammad\n",
      "Nama Lengkap: Hamudi\n"
     ]
    }
   ],
   "source": [
    "fname = input(\"Isikan nama awal:\")\n",
    "mname = input(\"Isikan nama tengah:\")\n",
    "lname = input(\"Isikan nama akhir:\")\n",
    "print(\"Nama Lengkap: {0} {1} {2}\".format(fname,mname,lname))\n",
    "\n",
    "print(\"Nama Lengkap: {depan}{tengah}{belakang}\".format(depan='Ha',tengah='mu',belakang='di'))"
   ]
  },
  {
   "cell_type": "code",
   "execution_count": 34,
   "id": "5dcbb35d-513d-4565-be94-f69256d032be",
   "metadata": {},
   "outputs": [
    {
     "name": "stdin",
     "output_type": "stream",
     "text": [
      "Masukkan NIM Anda: 20240040028\n"
     ]
    },
    {
     "name": "stdout",
     "output_type": "stream",
     "text": [
      "Tahun Masuk:2024\n",
      "Kode Prodi:004\n",
      "Program Studi: Teknik Informatika\n",
      "Nomor Urut:0028\n",
      "Angka NIM paling akhir: 8\n",
      "NIM setelah direverse: 82004004202\n"
     ]
    }
   ],
   "source": [
    "nim = input(\"Masukkan NIM Anda:\")\n",
    "tahun = nim[0:4]\n",
    "koprodi = nim[4:7]\n",
    "prodi = \"Teknik Informatika\" if koprodi == \"004\" else \"Cupu\"\n",
    "norut = nim[7:11]\n",
    "print(f\"Tahun Masuk:{tahun}\")\n",
    "print(f\"Kode Prodi:{koprodi}\")\n",
    "print(f\"Program Studi: {prodi}\")\n",
    "print(f\"Nomor Urut:{norut}\")\n",
    "print(f\"Angka NIM paling akhir: {nim[-1]}\")\n",
    "print(f\"NIM setelah direverse: {nim[::-1]}\")"
   ]
  },
  {
   "cell_type": "code",
   "execution_count": 41,
   "id": "c3c084b6-6241-4809-885c-11596b2e3729",
   "metadata": {},
   "outputs": [
    {
     "name": "stdout",
     "output_type": "stream",
     "text": [
      "Belajar\n",
      "Python\n",
      "Itu\n",
      "Mudah\n",
      "3\n"
     ]
    }
   ],
   "source": [
    "kalimat = \"Belajar Python Itu Mudah\"\n",
    "kata = kalimat.split(' ')\n",
    "print(kata[0])\n",
    "print(kata[1])\n",
    "print(kata[2])\n",
    "print(kata[3])\n",
    "\n",
    "platMotor = \"F9876WE\"\n",
    "print(platMotor.find(\"7\"))"
   ]
  },
  {
   "cell_type": "code",
   "execution_count": 49,
   "id": "e2d8b5b2-46ac-4fdf-be27-03a40e57926d",
   "metadata": {},
   "outputs": [
    {
     "name": "stdin",
     "output_type": "stream",
     "text": [
      "Masukkan Email: hamudi@gmail.com\n"
     ]
    },
    {
     "name": "stdout",
     "output_type": "stream",
     "text": [
      "Valid\n"
     ]
    }
   ],
   "source": [
    "email = input(\"Masukkan Email:\")\n",
    "et = email.find('@')\n",
    "dot = email.find('.')\n",
    "result = \"Valid\" if et != -1 and dot != -1 and et < dot else \"Tidak Valid\"\n",
    "print(result)\n",
    "\n",
    "\n",
    "# uname = \"asd\"\n",
    "# pw = \"asd\"\n",
    "# username = input(\"Username:\")\n",
    "# password = input(\"Password:\")\n",
    "# login = \"Berhasil Login\" if username == \"asd\" and password == \"asd\" else \"Gagal Login\"\n",
    "# print(login)"
   ]
  },
  {
   "cell_type": "code",
   "execution_count": 59,
   "id": "cdd1b2bb-0738-4581-9571-02be579342f9",
   "metadata": {},
   "outputs": [
    {
     "name": "stdout",
     "output_type": "stream",
     "text": [
      "0.6609083422177219\n",
      "35\n",
      "Sept\n",
      "['Sun', 2]\n"
     ]
    }
   ],
   "source": [
    "import random as r\n",
    "\n",
    "nilai = r.random()\n",
    "print(nilai)\n",
    "\n",
    "nilaiInt = r.randint(0,100)\n",
    "print(nilaiInt)\n",
    "\n",
    "bulan = [\"Jan\",\"Feb\",\"Mar\",\"Apr\",\"Mei\",\"Jun\",\"Jul\",\"Agu\",\"Sept\"]\n",
    "cbulan = r.choice(bulan)\n",
    "print(cbulan)\n",
    "\n",
    "day = [[\"Mon\",1],[\"Sun\",2],[\"Thur\",3],[\"Wed\",4],[\"Tue\",5],[\"Fri\",6],[\"Sat\",7]]\n",
    "cday = r.choice(day)\n",
    "print(cday)"
   ]
  },
  {
   "cell_type": "code",
   "execution_count": 1,
   "id": "7764c651-24ed-45e9-bac4-13b716c1eb9f",
   "metadata": {},
   "outputs": [
    {
     "name": "stdout",
     "output_type": "stream",
     "text": [
      "Apa bahasa inggris dari penggaris\n"
     ]
    },
    {
     "name": "stdin",
     "output_type": "stream",
     "text": [
      "Jawaban: ruler\n"
     ]
    },
    {
     "name": "stdout",
     "output_type": "stream",
     "text": [
      "Benar\n"
     ]
    }
   ],
   "source": [
    "import random as r\n",
    "kamus = [[\"buku\",\"book\"],[\"pulpen\",\"pen\"],[\"penggaris\",\"ruler\"]]\n",
    "ckamus = r.choice(kamus)\n",
    "print(\"Apa bahasa inggris dari\",ckamus[0])\n",
    "jawab = input(\"Jawaban:\")\n",
    "print(\"Benar\") if jawab == ckamus[1] else \"Salah\""
   ]
  },
  {
   "cell_type": "code",
   "execution_count": null,
   "id": "03897b09-d0a9-4bc6-8f41-e7647f2e8e4e",
   "metadata": {},
   "outputs": [],
   "source": []
  },
  {
   "cell_type": "code",
   "execution_count": null,
   "id": "67d661b1-2e2b-4412-8560-8a285175e55f",
   "metadata": {},
   "outputs": [
    {
     "name": "stdout",
     "output_type": "stream",
     "text": [
      "(['0.Inggris Ke Indonesia'], ['1.Indonesia Ke Inggris'])\n"
     ]
    }
   ],
   "source": [
    "import random as r\n",
    "pilihan = [\"0.Inggris Ke Indonesia\"],[\"1.Indonesia Ke Inggris\"]\n",
    "print(pilihan)\n",
    "pilih = input(\"Pilih:\")\n",
    "if pilih == \"0\":\n",
    "    kamus = [[\"book\",\"buku\"],[\"pen\",\"pulpen\"],[\"ruler\",\"penggaris\"]]\n",
    "    ckamus = r.choice(kamus)\n",
    "    print(\"Apa bahasa Indonesia dari\",ckamus[0])\n",
    "    jawab = input(\"Jawaban:\")\n",
    "    print(\"Benar\") if jawab == ckamus[1] else \"Salah\"\n",
    "else:\n",
    "    print(\"Apa bahasa inggris dari\",ckamus[0])\n",
    "    jawab = input(\"Jawaban:\")\n",
    "    print(\"Benar\") if jawab == ckamus[1] else \"Salah\"\n"
   ]
  }
 ],
 "metadata": {
  "kernelspec": {
   "display_name": "Python 3 (ipykernel)",
   "language": "python",
   "name": "python3"
  },
  "language_info": {
   "codemirror_mode": {
    "name": "ipython",
    "version": 3
   },
   "file_extension": ".py",
   "mimetype": "text/x-python",
   "name": "python",
   "nbconvert_exporter": "python",
   "pygments_lexer": "ipython3",
   "version": "3.12.3"
  }
 },
 "nbformat": 4,
 "nbformat_minor": 5
}
