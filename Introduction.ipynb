{
 "cells": [
  {
   "cell_type": "markdown",
   "id": "e9c804c8-d290-4af6-be36-ff8f25559a0e",
   "metadata": {},
   "source": [
    "<center>\n",
    "    <img src=\"https://encrypted-tbn0.gstatic.com/images?q=tbn:ANd9GcTR9TPOVtXqiBfZjmVcaXxgnQn3iafb-hY3UA&s\" width=500>\n",
    "    <hr>\n",
    "    <h1><b>Muhamad Hamudi</b></h1>\n",
    "    <h3>20240040028 | Teknik Informatika</h3>\n",
    "    <hr>\n",
    "</center>\n",
    "Cell di Jupyter ada 2 jenis yaitu :\n",
    "<ol>\n",
    "    <li>Markdown</li>\n",
    "    <li>Code</li>\n",
    "</ol>"
   ]
  },
  {
   "cell_type": "markdown",
   "id": "7b16bc26-c7e7-49dc-9f58-b902d97e7f68",
   "metadata": {},
   "source": [
    "Cara menambahkan cell ada 2 yaitu :\n",
    "<ul>\n",
    "    <li>Above (A)</li>\n",
    "    <li>Below (B)</li>\n",
    "</ul>\n"
   ]
  },
  {
   "cell_type": "markdown",
   "id": "691ff0b5-ab0a-478a-bdd5-10adfd3c855b",
   "metadata": {},
   "source": [
    "<table>\n",
    "    <thead>\n",
    "        <tr>\n",
    "            <th>No</th>\n",
    "            <th>NIM</th>\n",
    "            <th>Nama</th>\n",
    "            <th>Kelas</th>\n",
    "        </tr>\n",
    "    </thead>\n",
    "    <tbody>\n",
    "        <td>1</td>\n",
    "        <td>20240040028</td>\n",
    "        <td>Muhamad Hamudi</td> \n",
    "        <td>TI 24 G</td>\n",
    "    </tbody>\n",
    "    <tbody>\n",
    "        <td>2</td>\n",
    "        <td>20240040126</td>\n",
    "        <td>Ibnu Fariz Hamzah</td> \n",
    "        <td>TI 24 G</td>\n",
    "    </tbody>\n",
    "</table>"
   ]
  },
  {
   "cell_type": "code",
   "execution_count": null,
   "id": "7fcb8641-9e1a-4878-8868-b41b54ee52ec",
   "metadata": {},
   "outputs": [],
   "source": []
  }
 ],
 "metadata": {
  "kernelspec": {
   "display_name": "Python 3 (ipykernel)",
   "language": "python",
   "name": "python3"
  },
  "language_info": {
   "codemirror_mode": {
    "name": "ipython",
    "version": 3
   },
   "file_extension": ".py",
   "mimetype": "text/x-python",
   "name": "python",
   "nbconvert_exporter": "python",
   "pygments_lexer": "ipython3",
   "version": "3.12.3"
  }
 },
 "nbformat": 4,
 "nbformat_minor": 5
}
