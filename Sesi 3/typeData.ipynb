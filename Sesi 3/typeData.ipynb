{
 "cells": [
  {
   "cell_type": "code",
   "execution_count": 68,
   "id": "643ef501-5c04-49aa-90c8-e9b38d52b008",
   "metadata": {
    "scrolled": true
   },
   "outputs": [
    {
     "name": "stdout",
     "output_type": "stream",
     "text": [
      "Nama:  Muhamad Hamudi\n",
      "Umur:  20\n",
      "Alamat:  Sukabumi , 7413412\n",
      "Nilai Pemrograman:  99.0\n",
      "Status Menikah:  False\n",
      "========================================\n",
      "Tipe data <name> <class 'str'>\n",
      "Tipe Data <age> <class 'int'>\n",
      "Tipe Data <address> <class 'str'>\n",
      "Tipe Data <province> <class 'str'>\n",
      "Tipe Data <scorePython> <class 'float'>\n",
      "Tipe Data <isMarried <class 'bool'>\n",
      "=========================================\n"
     ]
    }
   ],
   "source": [
    "name = \"Muhamad Hamudi\"\n",
    "age = 20\n",
    "address,province = \"Sukabumi\",\"7413412\"\n",
    "scorePython = 99.0\n",
    "isMarried = False\n",
    "\n",
    "print(\"Nama: \",name)\n",
    "print(\"Umur: \",age)\n",
    "print(\"Alamat: \",address,\",\",province)\n",
    "print(\"Nilai Pemrograman: \",scorePython)\n",
    "print(\"Status Menikah: \",isMarried)\n",
    "\n",
    "print(\"========================================\")\n",
    "print(\"Tipe data <name>\",type(name))\n",
    "print(\"Tipe Data <age>\",type(age))\n",
    "print(\"Tipe Data <address>\",type(address))\n",
    "print(\"Tipe Data <province>\",type(province))\n",
    "print(\"Tipe Data <scorePython>\",type(scorePython))\n",
    "print(\"Tipe Data <isMarried\",type(isMarried))\n",
    "print(\"=========================================\")"
   ]
  },
  {
   "cell_type": "code",
   "execution_count": 93,
   "id": "ad5894f4-c49e-4ce0-93ef-3a2067a49b04",
   "metadata": {},
   "outputs": [
    {
     "name": "stdout",
     "output_type": "stream",
     "text": [
      "================================================\n",
      "7413412|7413412.0|True\n",
      "================================================\n",
      "20|20.0|True\n",
      "================================================\n",
      "99.0|99|True\n",
      "================================================\n",
      "False|0|False\n",
      "================================================\n"
     ]
    }
   ],
   "source": [
    "#Konversi Tipe Data\n",
    "\n",
    "#Konversi dari String ke (int,float,bool)\n",
    "print(\"================================================\")\n",
    "strToInt = int(province)\n",
    "strToFloat = float(province)\n",
    "strToBool = bool(province)\n",
    "print(strToInt ,strToFloat, strToBool, sep=\"|\")\n",
    "\n",
    "#Konversi dari Int ke (str,float,bool)\n",
    "print(\"================================================\")\n",
    "intToStr = str(age)\n",
    "intToFloat = float(age)\n",
    "intToBool = bool(age)\n",
    "print(intToStr ,intToFloat, intToBool, sep=\"|\")\n",
    "\n",
    "#Konversi dari Float ke (str,int,bool)\n",
    "print(\"================================================\")\n",
    "floatToStr = str(scorePython)\n",
    "floatToInt = int(scorePython)\n",
    "floatToBool = bool(scorePython)\n",
    "print(floatToStr ,floatToInt, floatToBool, sep=\"|\")\n",
    "\n",
    "#Konversi dari Float ke (str,int,bool)\n",
    "print(\"================================================\")\n",
    "boolToStr = str(isMarried)\n",
    "boolToInt = int(isMarried)\n",
    "boolToFloat = bool(isMarried)\n",
    "print(boolToStr ,boolToInt, boolToFloat, sep=\"|\")\n",
    "print(\"================================================\")"
   ]
  },
  {
   "cell_type": "code",
   "execution_count": 99,
   "id": "fd5236c3-1db5-497b-baeb-1145cb6262b6",
   "metadata": {},
   "outputs": [
    {
     "name": "stdout",
     "output_type": "stream",
     "text": [
      "Nilai Desimal : 500\n",
      "Nilai Biner : 10\n",
      "Nilai Octal : 255\n",
      "Nilai Hexa : 255\n",
      "==============================================\n",
      "Nilai Biner dari 500 : 0b111110100\n",
      "Nilai Octal dari 500 : 0o764\n",
      "Nilai Hexa dari 500 : 0x1f4\n"
     ]
    }
   ],
   "source": [
    "desimal = 500 \n",
    "biner = 0b1010 #10\n",
    "octal = 0o377 #255\n",
    "hexa = 0xff #255\n",
    "\n",
    "print(\"Nilai Desimal :\",desimal)\n",
    "print(\"Nilai Biner :\",biner)\n",
    "print(\"Nilai Octal :\",octal)\n",
    "print(\"Nilai Hexa :\",hexa)\n",
    "\n",
    "print(\"==============================================\")\n",
    "\n",
    "print(\"Nilai Biner dari\",desimal,\":\",bin(desimal))\n",
    "print(\"Nilai Octal dari\",desimal,\":\",oct(desimal))\n",
    "print(\"Nilai Hexa dari\",desimal,\":\",hex(desimal))"
   ]
  },
  {
   "cell_type": "code",
   "execution_count": 148,
   "id": "1f774d76-c9d7-454e-9cb4-f2cc6a793967",
   "metadata": {},
   "outputs": [
    {
     "name": "stdout",
     "output_type": "stream",
     "text": [
      "==========================================================================\n",
      "['Bandung', 'Sukabumi', 'Bogor', 'Jakarta', 'Medan']\n",
      "==========================================================================\n",
      "Bandung |index pertama|\n",
      "==========================================================================\n",
      "Medan |index terakhir|\n",
      "==========================================================================\n",
      "M |huruf index pertama dari index terakhir|\n",
      "==========================================================================\n",
      "n |huruf index terakhir dari index terakhir|\n",
      "==========================================================================\n",
      "['Bali', 'Sukabumi', 'Bogor', 'Jakarta', 'Medan'] |Mengganti index pertama|\n",
      "==========================================================================\n",
      "\n",
      "\n",
      "\n",
      "===Tuple===\n",
      "('Djibriel', 'Ibnu', 'Hamudi', 'Gidzane', 'Naufal')\n",
      "Hamudi\n",
      "===========\n",
      "\n",
      "\n",
      "\n",
      "==Dictionary===\n",
      "{'name': 'Hamudi', 'age': 20, 'address': {'street': 'Jl.Merdeka', 'number': 125, 'province': 'Jawa Barat'}, 'isMarries': True, 'hobbies': ['Programming', 'Playing Games']}\n",
      "Umur:  20\n",
      "Alamat:  Jawa Barat\n",
      "Hobbi:  Programming\n",
      "===================\n"
     ]
    }
   ],
   "source": [
    "#Tipe data Collection\n",
    "#List\n",
    "\n",
    "cities = [\"Bandung\",\"Sukabumi\",\"Bogor\",\"Jakarta\",\"Medan\"]\n",
    "lengthCities = len(cities)\n",
    "print(\"==========================================================================\")\n",
    "print(cities) #semua index\n",
    "print(\"==========================================================================\")\n",
    "print(cities[0],\"|index pertama|\") #index pertama\n",
    "print(\"==========================================================================\")\n",
    "print(cities[lengthCities-1], \"|index terakhir|\") #index terakhir\n",
    "print(\"==========================================================================\")\n",
    "print(cities[lengthCities-1][0],\"|huruf index pertama dari index terakhir|\") #huruf index pertama dari index terakhir\n",
    "print(\"==========================================================================\")\n",
    "print(cities[lengthCities-1][len(cities[lengthCities-1])-1], \"|huruf index terakhir dari index terakhir|\") #huruf index terakhir dari index terakhir\n",
    "print(\"==========================================================================\")\n",
    "cities[0] = \"Bali\" #Mengganti index pertama\n",
    "print(cities,\"|Mengganti index pertama|\")\n",
    "print(\"==========================================================================\")\n",
    "print(\"\")\n",
    "print(\"\")\n",
    "print(\"\")\n",
    "\n",
    "#Tuple\n",
    "print(\"===Tuple===\")\n",
    "names = (\"Djibriel\",\"Ibnu\",\"Hamudi\",\"Gidzane\",\"Naufal\")\n",
    "print(names)\n",
    "print(names[2])\n",
    "print(\"===========\")\n",
    "print(\"\")\n",
    "print(\"\")\n",
    "print(\"\")\n",
    "\n",
    "\n",
    "#Dictionary\n",
    "print(\"==Dictionary===\")\n",
    "studentData = {\n",
    "    \"name\" : \"Hamudi\",\n",
    "    \"age\" : 20,\n",
    "    \"address\" : {\n",
    "        \"street\" : \"Jl.Merdeka\",\n",
    "        \"number\" : 125,\n",
    "        \"province\" : \"Jawa Barat\"\n",
    "    },\n",
    "    \"isMarries\" : True,\n",
    "    \"hobbies\" : [\"Programming\",\"Playing Games\"]\n",
    "}\n",
    "\n",
    "print(studentData)\n",
    "print(\"Umur: \",studentData[\"age\"])\n",
    "print(\"Alamat: \",studentData[\"address\"][\"province\"])\n",
    "print(\"Hobbi: \",studentData[\"hobbies\"][0])\n",
    "print(\"===================\")"
   ]
  },
  {
   "cell_type": "code",
   "execution_count": 158,
   "id": "2b040796-1132-40e6-a0d5-bb65a4a152f7",
   "metadata": {},
   "outputs": [
    {
     "name": "stdout",
     "output_type": "stream",
     "text": [
      "{'name': 'Mudi', 'age': 19, 'address': {'street': 'Situgede', 'number': 120, 'province': 'Jawa Barat'}, 'isMarried': True, 'hobbies': ['Programming', 'Playing Games']}\n",
      "{'name': 'Ibnu', 'age': 90, 'address': {'street': 'Cibadag', 'number': 36, 'province': 'Aceh'}, 'isMarried': False, 'hobbies': ['Football', 'Volleyball']}\n",
      "Aceh\n"
     ]
    }
   ],
   "source": [
    "studentList = [\n",
    "    {\n",
    "        \"name\" : \"Mudi\",\n",
    "        \"age\" : 19,\n",
    "        \"address\" : {\n",
    "            \"street\" : \"Situgede\",\n",
    "            \"number\" : 120,\n",
    "            \"province\" : \"Jawa Barat\"\n",
    "        },\n",
    "        \"isMarried\" : True,\n",
    "        \"hobbies\" : [\"Programming\",\"Playing Games\"]\n",
    "    },\n",
    "    {\n",
    "        \"name\" : \"Ibnu\",\n",
    "        \"age\" : 90,\n",
    "        \"address\" : {\n",
    "            \"street\" : \"Cibadag\",\n",
    "            \"number\" : 36,\n",
    "            \"province\" : \"Aceh\"\n",
    "        },\n",
    "        \"isMarried\" : False,\n",
    "        \"hobbies\"  : [\"Football\",\"Volleyball\"]\n",
    "    }\n",
    "]\n",
    "print(studentList[0])\n",
    "print(studentList[1])\n",
    "print(studentList[1][\"address\"][\"province\"])"
   ]
  },
  {
   "cell_type": "code",
   "execution_count": 144,
   "id": "81332743-46e3-4c0f-baa1-998e7080b414",
   "metadata": {},
   "outputs": [
    {
     "name": "stdout",
     "output_type": "stream",
     "text": [
      "=== List ke List === \n",
      "{'Name': 'Hamudi', 'Age': '20', 'Status': True}\n",
      "=== List ke Tuple === \n",
      "{'Name': 'Djibriel', 'Age': '20', 'Address': 'Mangkalaya'}\n",
      "=== Tuple ke List === \n",
      "{'Name': 'Harimau', 'Type': 'Mamalia'}\n",
      "=== Tuple ke Tuple === \n",
      "{'Name': 'Buaya', 'Type': 'Reptil'}\n",
      "============================\n",
      "{'Vechile': 'Car', 'Brand': 'Lamborghini', 'cc': '5000'}\n"
     ]
    }
   ],
   "source": [
    "#Konversi Dictionary\n",
    "print(\"=== List ke List === \")\n",
    "list_list = [[\"Name\",\"Hamudi\"],[\"Age\",\"20\"],[\"Status\",True]]\n",
    "dictListStudent = dict(list_list)\n",
    "print(dictListStudent)\n",
    "\n",
    "print(\"=== List ke Tuple === \")\n",
    "list_tuple = [(\"Name\",\"Djibriel\"),(\"Age\",\"20\"),(\"Address\",\"Mangkalaya\")]\n",
    "dictTupleStudent = dict(list_tuple)\n",
    "print(dictTupleStudent)\n",
    "\n",
    "\n",
    "print(\"=== Tuple ke List === \")\n",
    "tuple_list = ([\"Name\",\"Harimau\"],[\"Type\",\"Mamalia\"])\n",
    "dictListAnimal = dict(tuple_list)\n",
    "print(dictListAnimal)\n",
    "\n",
    "\n",
    "print(\"=== Tuple ke Tuple === \")\n",
    "tuple_tuple = ((\"Name\",\"Buaya\"),(\"Type\",\"Reptil\"))\n",
    "dictTupleAnimal = dict(tuple_tuple)\n",
    "print(dictTupleAnimal)\n",
    "\n",
    "print(\"============================\")\n",
    "\n",
    "keys = [\"Vechile\",\"Brand\",\"cc\"]\n",
    "values = [\"Car\",\"Lamborghini\",\"5000\"]\n",
    "car = dict(zip(keys,values))\n",
    "print(car)"
   ]
  }
 ],
 "metadata": {
  "kernelspec": {
   "display_name": "Python 3 (ipykernel)",
   "language": "python",
   "name": "python3"
  },
  "language_info": {
   "codemirror_mode": {
    "name": "ipython",
    "version": 3
   },
   "file_extension": ".py",
   "mimetype": "text/x-python",
   "name": "python",
   "nbconvert_exporter": "python",
   "pygments_lexer": "ipython3",
   "version": "3.12.3"
  }
 },
 "nbformat": 4,
 "nbformat_minor": 5
}
