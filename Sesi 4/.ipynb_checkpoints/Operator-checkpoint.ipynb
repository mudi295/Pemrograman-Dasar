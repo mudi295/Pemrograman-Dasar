{
 "cells": [
  {
   "cell_type": "markdown",
   "id": "93eb3513-e405-40fc-abee-80c309f7d69a",
   "metadata": {},
   "source": [
    "<h1 style=\"color:green;font-weight: bold; font-family:Arial, sans-serif;\">OPERASI ARITMATIKA</h1>"
   ]
  },
  {
   "cell_type": "code",
   "execution_count": 46,
   "id": "def5d48f-774f-499a-8830-e2e939ee7c49",
   "metadata": {},
   "outputs": [
    {
     "name": "stdin",
     "output_type": "stream",
     "text": [
      "Masukkan nilai x:  10\n",
      "Masukkan nilai y:  4\n"
     ]
    },
    {
     "name": "stdout",
     "output_type": "stream",
     "text": [
      "Hasil Penjumlahan 10 + 4 = 14\n",
      "Hasil Pengurangan 10 - 4 = 6\n",
      "Hasil Perkalian 10 x 4 = 40\n",
      "Hasil Pembagian 10 / 4 = 2.5\n",
      "Hasil Modulus 10 % 4 = 2\n",
      "Hasil Perpangkatan 10 ^ 4 = 10000\n",
      "Hasil Pembagian bulat 10 // 4 = 2\n"
     ]
    }
   ],
   "source": [
    "x = int(input(\"Masukkan nilai x: \"))\n",
    "y = int(input(\"Masukkan nilai y: \"))\n",
    "\n",
    "hasilTambah = x+y\n",
    "hasilKurang = x-y\n",
    "hasilKali = x*y\n",
    "hasilBagi = x/y\n",
    "hasilMod = x%y\n",
    "hasilPangkat = x**y\n",
    "hasilBagiBulat = x//y\n",
    "\n",
    "print(\"Hasil Penjumlahan\",x,\"+\",y,\"=\",hasilTambah)\n",
    "print(\"Hasil Pengurangan\",x,\"-\",y,\"=\",hasilKurang)\n",
    "print(\"Hasil Perkalian\",x,\"x\",y,\"=\",hasilKali)\n",
    "print(\"Hasil Pembagian\",x,\"/\",y,\"=\",hasilBagi)\n",
    "print(\"Hasil Modulus\",x,\"%\",y,\"=\",hasilMod)\n",
    "print(\"Hasil Perpangkatan\",x,\"^\",y,\"=\",hasilPangkat)\n",
    "print(\"Hasil Pembagian bulat\",x,\"//\",y,\"=\",hasilBagiBulat)\n"
   ]
  }
 ],
 "metadata": {
  "kernelspec": {
   "display_name": "Python 3 (ipykernel)",
   "language": "python",
   "name": "python3"
  },
  "language_info": {
   "codemirror_mode": {
    "name": "ipython",
    "version": 3
   },
   "file_extension": ".py",
   "mimetype": "text/x-python",
   "name": "python",
   "nbconvert_exporter": "python",
   "pygments_lexer": "ipython3",
   "version": "3.12.3"
  }
 },
 "nbformat": 4,
 "nbformat_minor": 5
}
