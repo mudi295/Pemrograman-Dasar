{
 "cells": [
  {
   "cell_type": "code",
   "execution_count": 15,
   "id": "4606d1b8-6447-4c26-a46b-7bf5d089bb5a",
   "metadata": {},
   "outputs": [
    {
     "name": "stdin",
     "output_type": "stream",
     "text": [
      "Masukan Usia Anda: 60\n"
     ]
    },
    {
     "name": "stdout",
     "output_type": "stream",
     "text": [
      "Kategori: Lansia\n"
     ]
    }
   ],
   "source": [
    "umur = int(input(\"Masukan Usia Anda:\"))\n",
    "\n",
    "if umur > 59:\n",
    "    kategori = \"Lansia\"\n",
    "elif umur > 17:\n",
    "    kategori = \"Dewasa\"\n",
    "elif umur > 12:\n",
    "    kategori = \"Remaja\"\n",
    "elif umur >= 0:\n",
    "    kategori = \"Anak-anak\"\n",
    "else:\n",
    "    kategori = \"Tidak Valid\"\n",
    "print(f\"Kategori: {kategori}\")"
   ]
  },
  {
   "cell_type": "code",
   "execution_count": null,
   "id": "6ec014f5-3fcb-4ade-9f4e-a7d5baaf87f7",
   "metadata": {},
   "outputs": [],
   "source": [
    "tiket1 = int(input(\"Masukan umur pengunjung:\"))\n",
    "tiket2 = int(input(\"Masukan umur pengunjung:\"))\n",
    "tiket3 = int(input(\"Masukan umur pengunjung:\"))\n",
    "\n",
    "if tiket1 > 59:\n",
    "    keterangan = \"Tiket Lansia\"\n",
    "    harga1 = 0\n",
    "elif tiket1 >17:\n",
    "    keterangan = \"Tiket Dewasa\"\n",
    "    harga1 = 25000\n",
    "elif tiket1 >12:\n",
    "    keterangan = \"Tiket Remaja\"\n",
    "    harga1 = 25000\n",
    "elif tiket1 >=0:\n",
    "    keterangan = \"Tiket Anak-anak\"\n",
    "    harga1 = 10000\n",
    "total += harga1\n",
    "\n",
    "if tiket2 > 59:\n",
    "    keterangan = \"Tiket Lansia\"\n",
    "    harga2 = 0\n",
    "elif tiket2 >17:\n",
    "    keterangan = \"Tiket Dewasa\"\n",
    "    harga2 = 25000\n",
    "elif tiket2 >12:\n",
    "    keterangan = \"Tiket Remaja\"\n",
    "    harga2 = 25000\n",
    "elif tiket2 >=0:\n",
    "    keterangan = \"Tiket Anak-anak\"\n",
    "    harga2 = 10000\n",
    "total += harga2\n",
    "\n",
    "if tiket3 > 59:\n",
    "    keterangan = \"Tiket Lansia\"\n",
    "    harga3 = 0\n",
    "elif tiket3 >17:\n",
    "    keterangan = \"Tiket Dewasa\"\n",
    "    harga3 = 25000\n",
    "elif tiket3 >12:\n",
    "    keterangan = \"Tiket Remaja\"\n",
    "    harga3 = 25000\n",
    "elif tiket3 >=0:\n",
    "    keterangan = \"Tiket Anak-anak\"\n",
    "    harga3 = 10000\n",
    "total += harga3\n",
    "\n",
    "print(f\"Tiket 1: {keterangan} | \")"
   ]
  },
  {
   "cell_type": "code",
   "execution_count": 20,
   "id": "4b25adb7-37de-454c-a311-28402950532b",
   "metadata": {},
   "outputs": [
    {
     "name": "stdin",
     "output_type": "stream",
     "text": [
      "Masukan umur pengunjung 1: 13\n",
      "Masukan umur pengunjung 2: 14\n",
      "Masukan umur pengunjung 3: 15\n"
     ]
    },
    {
     "name": "stdout",
     "output_type": "stream",
     "text": [
      "Harga tiket pengunjung 1: Rp.15000\n",
      "Harga tiket pengunjung 2: Rp.15000\n",
      "Harga tiket pengunjung 3: Rp.15000\n",
      "Total Harga Tiket: Rp.45000\n"
     ]
    }
   ],
   "source": [
    "def hargaTiket(umur):\n",
    "    if umur <= 12:\n",
    "        return 10000\n",
    "    elif umur <= 17:\n",
    "        return 15000\n",
    "    elif umur <= 59:\n",
    "        return 25000\n",
    "    else:\n",
    "        return 0\n",
    "\n",
    "tiket1 = int(input(\"Masukan umur pengunjung 1:\"))\n",
    "tiket2 = int(input(\"Masukan umur pengunjung 2:\"))\n",
    "tiket3 = int(input(\"Masukan umur pengunjung 3:\"))\n",
    "\n",
    "tiket1 = hargaTiket(tiket1)\n",
    "tiket2 = hargaTiket(tiket2)\n",
    "tiket3 = hargaTiket(tiket3)\n",
    "\n",
    "totalHarga = tiket1 + tiket2 + tiket3\n",
    "\n",
    "print(f\"Harga tiket pengunjung 1: Rp.{tiket1}\")\n",
    "print(f\"Harga tiket pengunjung 2: Rp.{tiket2}\")\n",
    "print(f\"Harga tiket pengunjung 3: Rp.{tiket3}\")\n",
    "print(f\"Total Harga Tiket: Rp.{totalHarga}\")"
   ]
  },
  {
   "cell_type": "code",
   "execution_count": 24,
   "id": "cb2a7be5-75f6-4377-bd98-4ed900145add",
   "metadata": {},
   "outputs": [
    {
     "name": "stdin",
     "output_type": "stream",
     "text": [
      "Masukkan ukt: 10000000\n",
      "Masukkan penghasilan orang tua: 7000000\n",
      "Masukkan nilai rapot: 89\n"
     ]
    },
    {
     "name": "stdout",
     "output_type": "stream",
     "text": [
      "Uang UKT: 10000000 \n",
      "Nilai Raport: 89\n",
      "Penghasilan Orang tua: 7000000\n",
      "Beasiswa: Beasiswa 50%\n",
      "Total bayar: 5000000.0\n"
     ]
    }
   ],
   "source": [
    "ukt = int(input(\"Masukkan ukt:\"))\n",
    "penghasilan = int(input(\"Masukkan penghasilan orang tua:\"))\n",
    "nilai = int(input(\"Masukkan nilai rapot:\"))\n",
    "\n",
    "beasiswa = 0\n",
    "\n",
    "if nilai >= 90:\n",
    "    if penghasilan < 5000000:\n",
    "        beasiswa = 100\n",
    "        keterangan = \"Beasiswa penuh\"\n",
    "elif nilai >= 85:\n",
    "    if penghasilan < 8000000:\n",
    "        beasiswa = 50\n",
    "        keterangan = \"Beasiswa 50%\"\n",
    "else:\n",
    "    keterangan = \"Tidak mendapatkan beasiswa\"\n",
    "\n",
    "total = ukt - (ukt * (beasiswa/100))\n",
    "\n",
    "print(f\"Uang UKT: {ukt} \")\n",
    "print(f\"Nilai Raport: {nilai}\")\n",
    "print(f\"Penghasilan Orang tua: {penghasilan}\")\n",
    "print(f\"Beasiswa: {keterangan}\")\n",
    "print(f\"Total bayar: {}\")"
   ]
  },
  {
   "cell_type": "code",
   "execution_count": 42,
   "id": "ca2d17bf-95ae-4ec2-9bfa-5c667bcf1244",
   "metadata": {},
   "outputs": [
    {
     "name": "stdin",
     "output_type": "stream",
     "text": [
      "Masukan jenis kendaraan (mobil/motor):  motor\n",
      "Masukan durasi parkir {jam}:  2\n"
     ]
    },
    {
     "name": "stdout",
     "output_type": "stream",
     "text": [
      "Total biaya parkir: Rp.None\n"
     ]
    }
   ],
   "source": [
    "def hitung(jenisKendaraan,jam):\n",
    "    if jenisKendaraan == \"mobil\":\n",
    "        tarif = 5000\n",
    "    elif jenisKendaraan == \"motor\":\n",
    "        tarif = 2000\n",
    "    else:\n",
    "        return \"Jenis kendaraan tidak valid\"\n",
    "\n",
    "    totalBiaya = tarif * jam\n",
    "\n",
    "    if jam > 5:\n",
    "        totalBiaya += 100000\n",
    "        return totalBiaya\n",
    "\n",
    "kendaraan = input(\"Masukan jenis kendaraan (mobil/motor): \")\n",
    "durasi = int(input(\"Masukan durasi parkir (jam): \"))\n",
    "\n",
    "biaya = hitung(kendaraan, durasi)\n",
    "\n",
    "print(f\"Total biaya parkir: Rp.{biaya}\")"
   ]
  },
  {
   "cell_type": "code",
   "execution_count": 40,
   "id": "c4e6355b-8fae-4bbf-9363-5467c88fc4b9",
   "metadata": {},
   "outputs": [
    {
     "name": "stdin",
     "output_type": "stream",
     "text": [
      "Masukkan nomor punggung: 15\n"
     ]
    },
    {
     "name": "stdout",
     "output_type": "stream",
     "text": [
      "Nomor punggung 15 dapat digunakan untuk posisi:Defender, Keeper\n"
     ]
    }
   ],
   "source": [
    "def cekPosisi(nomor):\n",
    "    posisi = []\n",
    "\n",
    "    if nomor % 2 == 0:\n",
    "        posisi.append(\"Target Attacker\")\n",
    "\n",
    "        if 50 <= nomor <= 100:\n",
    "            posisi.append(\"Berhak menjadi kapten\")\n",
    "\n",
    "    if nomor % 2 != 0:\n",
    "        posisi.append(\"Defender\")\n",
    "\n",
    "        if nomor > 90:\n",
    "            posisi.append(\"Playmaker\")\n",
    "\n",
    "        if nomor % 3 == 0 and nomor % 5 == 0:\n",
    "            posisi.append(\"Keeper\")\n",
    "    return posisi\n",
    "\n",
    "nomorPunggung = int(input(\"Masukkan nomor punggung:\"))\n",
    "\n",
    "hasilPosisi = cekPosisi(nomorPunggung)\n",
    "\n",
    "if hasilPosisi:\n",
    "    print(f\"Nomor punggung {nomorPunggung} dapat digunakan untuk posisi:{', '.join(hasilPosisi)}\")\n",
    "else:\n",
    "    print(\"Nomor punggung tidak valid atau tidak memiliki posisi tertentu\")"
   ]
  }
 ],
 "metadata": {
  "kernelspec": {
   "display_name": "Python 3 (ipykernel)",
   "language": "python",
   "name": "python3"
  },
  "language_info": {
   "codemirror_mode": {
    "name": "ipython",
    "version": 3
   },
   "file_extension": ".py",
   "mimetype": "text/x-python",
   "name": "python",
   "nbconvert_exporter": "python",
   "pygments_lexer": "ipython3",
   "version": "3.12.3"
  }
 },
 "nbformat": 4,
 "nbformat_minor": 5
}
